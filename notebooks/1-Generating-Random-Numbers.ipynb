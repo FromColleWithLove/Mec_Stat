{
 "cells": [
  {
   "cell_type": "code",
   "execution_count": 1,
   "metadata": {},
   "outputs": [],
   "source": [
    "# multidimensional arrays\n",
    "import numpy as np\n",
    "\n",
    "# inline plots\n",
    "import matplotlib.pyplot as plt\n",
    "%matplotlib inline\n",
    "\n",
    "# nicer figures\n",
    "import matplotlib as mpl\n",
    "mpl.rcParams['axes.titlesize'] = 16\n",
    "mpl.rcParams['axes.labelsize'] = 14\n",
    "mpl.rcParams['legend.fontsize'] = 12\n",
    "mpl.rcParams['xtick.labelsize'] = 12\n",
    "mpl.rcParams['ytick.labelsize'] = 12\n",
    "mpl.rcParams['axes.spines.right'] = False\n",
    "mpl.rcParams['axes.spines.top'] = False"
   ]
  },
  {
   "cell_type": "markdown",
   "metadata": {},
   "source": [
    "# Generating uniformly distributed random numbers\n",
    "We will use `numpy` to generate random numbers. To generate numbers uniformly distributed between 0 and 1, we can use the function `np.random.uniform()`. If you execute the cell below more than once, you will see how the output changes."
   ]
  },
  {
   "cell_type": "code",
   "execution_count": 4,
   "metadata": {},
   "outputs": [
    {
     "name": "stdout",
     "output_type": "stream",
     "text": [
      "0.9534855392020866\n"
     ]
    }
   ],
   "source": [
    "x = np.random.uniform()\n",
    "print(x)"
   ]
  },
  {
   "cell_type": "markdown",
   "metadata": {},
   "source": [
    "To generate many random numbers at once, use the `size` keyword"
   ]
  },
  {
   "cell_type": "code",
   "execution_count": 5,
   "metadata": {},
   "outputs": [
    {
     "name": "stdout",
     "output_type": "stream",
     "text": [
      "[0.51529599 0.38442827 0.51391854 0.77046246 0.47162781 0.57419991\n",
      " 0.94073019 0.99841768 0.60602982 0.82152545]\n"
     ]
    }
   ],
   "source": [
    "x_1d = np.random.uniform(size=10)\n",
    "print(x_1d)"
   ]
  },
  {
   "cell_type": "markdown",
   "metadata": {},
   "source": [
    "We can also generate a whole matrix of random uniform numbers at once!"
   ]
  },
  {
   "cell_type": "code",
   "execution_count": 9,
   "metadata": {},
   "outputs": [
    {
     "name": "stdout",
     "output_type": "stream",
     "text": [
      "[[0.03298571 0.6276648  0.85195008]\n",
      " [0.88438878 0.59145386 0.5108452 ]\n",
      " [0.25666385 0.15026278 0.36269089]]\n",
      "(3, 3)\n"
     ]
    }
   ],
   "source": [
    "x_2d = np.random.uniform(size=(3, 3))\n",
    "print(x_2d)\n",
    "print(np.shape(x_2d))"
   ]
  },
  {
   "cell_type": "markdown",
   "metadata": {},
   "source": [
    "Notice that `x_1d` and `x_2d` are a vector and a matrix. In python, elements of vectors and matrices are accessed with the `[]` synthax. Notice that indexes start at 0. For instance:"
   ]
  },
  {
   "cell_type": "code",
   "execution_count": null,
   "metadata": {},
   "outputs": [],
   "source": [
    "x = np.array([4, 7, -3.1, 2, 5, 6])"
   ]
  },
  {
   "cell_type": "code",
   "execution_count": null,
   "metadata": {},
   "outputs": [],
   "source": [
    "x[0]"
   ]
  },
  {
   "cell_type": "code",
   "execution_count": null,
   "metadata": {},
   "outputs": [],
   "source": [
    "x[1]"
   ]
  },
  {
   "cell_type": "code",
   "execution_count": null,
   "metadata": {},
   "outputs": [],
   "source": [
    "x[2]"
   ]
  },
  {
   "cell_type": "markdown",
   "metadata": {},
   "source": [
    "You can also select a subset of a vector with the `[start:stop]` synthax. For example, to get the 2nd and 3rd elements of our array, we could do"
   ]
  },
  {
   "cell_type": "code",
   "execution_count": null,
   "metadata": {},
   "outputs": [],
   "source": [
    "x[2:4]"
   ]
  },
  {
   "cell_type": "markdown",
   "metadata": {},
   "source": [
    "Matrices work the same way, but we use two indices instead of one. The first index corresponds to **rows** and the second index corresponds to **columns**."
   ]
  },
  {
   "cell_type": "code",
   "execution_count": null,
   "metadata": {},
   "outputs": [],
   "source": [
    "A = np.array([\n",
    "    [1, 2, 3],\n",
    "    [4, 5, 6],\n",
    "    [7, 8, 9]\n",
    "])"
   ]
  },
  {
   "cell_type": "code",
   "execution_count": null,
   "metadata": {},
   "outputs": [],
   "source": [
    "A[0:2, 2]"
   ]
  },
  {
   "cell_type": "markdown",
   "metadata": {},
   "source": [
    "If you come from C, you might be used to operate on arrays iterating over them. In python, we can operate with arrays without iterating over them! For instance:"
   ]
  },
  {
   "cell_type": "code",
   "execution_count": null,
   "metadata": {},
   "outputs": [],
   "source": [
    "A = np.array([\n",
    "    [1, 2, 3],\n",
    "    [4, 5, 6],\n",
    "])"
   ]
  },
  {
   "cell_type": "code",
   "execution_count": null,
   "metadata": {},
   "outputs": [],
   "source": [
    "A + 1"
   ]
  },
  {
   "cell_type": "code",
   "execution_count": null,
   "metadata": {},
   "outputs": [],
   "source": [
    "2 * A"
   ]
  },
  {
   "cell_type": "code",
   "execution_count": null,
   "metadata": {},
   "outputs": [],
   "source": [
    "A ** 3"
   ]
  },
  {
   "cell_type": "markdown",
   "metadata": {},
   "source": [
    "You can also make arithmetic operations between arrays. Python will \"guess\" what to do as long as the shapes of the last index(es) match."
   ]
  },
  {
   "cell_type": "code",
   "execution_count": null,
   "metadata": {},
   "outputs": [],
   "source": [
    "A = np.array([\n",
    "    [1, 2, 3],\n",
    "    [4, 5, 6],\n",
    "])"
   ]
  },
  {
   "cell_type": "code",
   "execution_count": null,
   "metadata": {},
   "outputs": [],
   "source": [
    "v = np.array([0, 1, 2])"
   ]
  },
  {
   "cell_type": "markdown",
   "metadata": {},
   "source": [
    "### Exercise\n",
    "Create a vector containing the numbers 9,...3, 2, 1. Then:\n",
    "\n",
    "+ Select the first element (9)\n",
    "+ Select the last element (1)\n",
    "+ Select the 2nd, 3rd and fourth elements"
   ]
  },
  {
   "cell_type": "code",
   "execution_count": 10,
   "metadata": {},
   "outputs": [
    {
     "name": "stdout",
     "output_type": "stream",
     "text": [
      "9\n",
      "1\n",
      "[8 7 6]\n"
     ]
    }
   ],
   "source": [
    "# write your answer here\n",
    "v = np.array([9, 8, 7, 6, 5, 4, 3, 2, 1])\n",
    "print(v[0])\n",
    "print(v[-1])\n",
    "print(v[1:4])"
   ]
  },
  {
   "cell_type": "markdown",
   "metadata": {},
   "source": [
    "### Exercise\n",
    "1. Create a random matrix A of 3 rows and 6 columns\n",
    "2. Add 1 to rows 0 and 2\n",
    "3. Substract 5 from columns 1 and 3"
   ]
  },
  {
   "cell_type": "code",
   "execution_count": 23,
   "metadata": {},
   "outputs": [
    {
     "name": "stdout",
     "output_type": "stream",
     "text": [
      "[[0.9567628  0.39294157 0.48758926 0.54619242 0.32026976 0.35986716]\n",
      " [0.62736954 0.79696681 0.83098392 0.00743644 0.97449854 0.98837638]\n",
      " [0.67111672 0.88112462 0.36754626 0.52307091 0.91370018 0.67550395]]\n"
     ]
    }
   ],
   "source": [
    "# write your code here\n",
    "A = np.random.uniform(size=(3,6))\n",
    "print(A)"
   ]
  },
  {
   "cell_type": "markdown",
   "metadata": {},
   "source": [
    "### Exercise\n",
    "How would you generate 1000 random numbers uniformely distributed between 5 and 20?"
   ]
  },
  {
   "cell_type": "code",
   "execution_count": 28,
   "metadata": {},
   "outputs": [
    {
     "name": "stdout",
     "output_type": "stream",
     "text": [
      "[10.7032052  19.78636003 18.02218929  8.44260488  5.90857478  6.51360935\n",
      " 12.17117792  9.8057704   8.76992186 11.96589401  8.03133335 10.44012063\n",
      "  6.52810386 19.49371736 19.78631266  6.97658112 18.78030592 16.25208227\n",
      "  9.86681689 15.98964273  7.79783644 13.43580548 14.63586123  7.86326179\n",
      " 18.4446545  11.18529582 19.46582114 19.83295818 11.33581775  7.57450274\n",
      " 14.66204936 16.46905382  8.37270495  8.90084463 15.13086929  8.62646966\n",
      "  8.13475516 13.28845538 12.14274749  7.49518098 13.14482699  9.83737606\n",
      " 14.58430484 18.50528902  9.20682502 17.26515142  5.45212641  5.22194519\n",
      " 16.25070082 14.11412772  8.26587065 14.65815555  8.69240453 15.99996011\n",
      " 19.84788779 11.630885   15.49246627 15.09454464 17.0946719  12.96043861\n",
      "  5.07976756 16.05934114  8.92216129 12.91169074 10.97833007 19.20287295\n",
      " 19.83292418 16.05582147 18.64289224 15.22831005 14.44385013 17.21953503\n",
      " 19.31026096  6.81368726 12.98696683  7.75683752  5.79699931  8.98595114\n",
      " 11.83437734 12.1274941  12.14993286  5.03397493  6.74797897 12.77225167\n",
      " 19.96941682 12.94094898 17.89434407 19.28320178  9.88248311  6.60615864\n",
      "  5.15089449 16.35208917 17.1039433   5.90084191  6.41490198 15.51827926\n",
      "  6.96307898 12.67037474  6.92467138 19.88629425 14.05100182 15.21292188\n",
      "  9.37377544  9.47551097 16.98161775 17.39972925 19.56570442  7.18895329\n",
      " 18.08140645 10.14689047  6.45161891 19.28692471 14.48795333 19.50234957\n",
      " 14.65496735 13.31014797 11.91166693 11.6203489  15.66329182  7.67479559\n",
      " 18.83694326 10.30322848 15.31161226 15.60809134 19.48705722 18.09173922\n",
      "  6.63161782 12.30644518 14.54216122 10.41807829  5.19866063  9.86370473\n",
      " 13.3601478  14.99994797  8.38451068 19.070599   17.81712184  7.56912008\n",
      "  6.24649122 11.75889352 13.80447181  7.33700192 19.75950364 15.91232144\n",
      "  8.11385228  7.64947761 17.05076307 18.97196516 10.0562278  12.95263115\n",
      "  5.49322889 17.05892389 10.89933251 15.330156   19.5163639  17.10710984\n",
      " 12.70256994 10.46245591 15.89105764 18.48952101 16.84336203  7.48905079\n",
      " 15.92162485  8.17556009 15.14778602 12.53589505  7.09029101 15.87949623\n",
      " 17.61931772 16.34477921 17.10800581 10.23790074  8.0070931  10.79775155\n",
      "  9.57842552 10.37287531 17.74220295 16.52260247 13.80408753 13.13569313\n",
      " 15.81006405  5.5968184  14.68804279  5.44404432 15.04864768 11.08831947\n",
      " 11.88217231 10.17760325 13.0076134  11.62554734  8.84160092 17.24851544\n",
      " 15.75858732 10.54362623 18.17453022  5.03741678 13.77782741 12.87246769\n",
      " 15.79363312 14.75655077 11.38890716 11.31464703 16.65349531 13.20581736\n",
      " 12.13838596  8.62173627 16.55300207 10.15302641  8.54232737  6.82562379\n",
      " 14.51937774 13.05326793  8.75268245 12.67686412 12.19023557  9.48394228\n",
      " 13.56939151 11.67459935 15.55069834  8.32461019  8.47623219  5.64474358\n",
      "  8.47042077 19.32853611  5.58746365 17.15850262  5.89941026  7.05640841\n",
      " 15.53935797  6.70882881 13.20192865  9.09295229 18.34389037 17.38377762\n",
      " 19.35881553  5.346517   12.02967156 12.93555659 16.43133438 16.91231366\n",
      "  6.62650828 17.4090188  10.33504826 16.07482473 19.23101529 12.8289964\n",
      " 13.01772795 13.74156359  7.51333776 14.89480371 12.66595236  5.25534413\n",
      " 15.70714048  9.72495136  8.12754089 11.65511052 10.03052251  7.65438699\n",
      "  7.24271215  5.22221587  5.5929696  10.6125402  14.00975794 13.7418956\n",
      " 13.71220222  8.94322054 11.4143022   9.61691627 10.80925276 18.89553337\n",
      " 15.42998731 13.56077743  8.52518503 13.22273837 17.29406618 18.47763896\n",
      " 10.35282366  8.57806082 10.17929728 18.07241    11.1954295  15.43108537\n",
      " 16.45481462 17.07089988 18.66005879 15.49580367 16.31091902 16.74759598\n",
      " 14.70422853 10.76541327 19.08297848 11.0389533   7.59267139 19.80313747\n",
      " 17.65613769 17.3125593   9.10264352 16.47364506 11.13279256 10.14328749\n",
      "  9.84019913 11.34860315  6.663614    9.08105643 11.56088177  5.10624664\n",
      "  8.27242103 17.05455047 17.98624441 19.36681955 19.72407904 15.03099847\n",
      "  9.78276269 15.76802381  9.08839709 12.49216458  9.3119908  18.18753878\n",
      " 14.47550636 17.00193335 10.1566917  13.54194152 13.29467209 19.74512465\n",
      " 13.05689461 13.47055216 17.38449173 12.87124821 15.08378295 17.43177695\n",
      "  9.42343568 12.68558164 16.76843666 19.18265326 14.46704608 15.78822542\n",
      " 10.61491214  6.08291708 13.30770215 19.35506869  5.7333827  18.20385887\n",
      " 10.17073777  5.25380019  9.51945953 16.092546   18.13721047 16.11447111\n",
      " 15.38217156 13.53000672 16.13341336 10.30473817 18.97317556  9.63023133\n",
      "  7.87932811 11.60412669  6.36095175 17.84721459 18.76347897 15.04752592\n",
      " 10.19884796  8.17530544 16.32908233 18.13332989  8.05801096 18.55326659\n",
      " 14.69151356 13.45182394  8.46380657  8.80203957 18.1745257   6.34903589\n",
      "  6.0096787  10.12149349  9.28458803  9.15428098 19.94255401 13.13878977\n",
      " 18.06060647 17.53173556  6.08895971 15.12869669 11.38832237 17.8740478\n",
      " 10.29516257  8.92128282 18.80703662  9.42097159 14.31729231 10.78231193\n",
      " 12.49912314 18.51542861 11.76628437 14.85302007  7.30601956  6.59715912\n",
      "  6.9798453   5.02854532  7.74513755 18.43192131 12.84479398 18.86966334\n",
      " 12.43152766  8.43846744  5.22918404 17.65322222 14.50265466 10.9395984\n",
      " 11.92328127 14.59681263 15.76702616 13.83423297 15.54320232  5.5152423\n",
      " 14.37737514  5.31838832 14.19156118 11.70696493  5.72514393  9.52789016\n",
      " 16.90297848  9.92802106 16.3061969  15.73957263 16.17871334 13.5895535\n",
      " 15.04319031 11.29812531 17.74128547  8.93616317  8.10838369 12.89172016\n",
      " 12.7861111   7.12363258 13.10710062 15.28333338  9.84985873  8.0231141\n",
      " 18.81449714 18.8128149   9.95338009  6.33870413 10.17329432 14.76938985\n",
      " 10.75524244  6.62307479 11.30675019  9.61913066 16.68817484  6.07292672\n",
      " 12.07032701 18.10257937 17.34928196  6.31063398  8.42564247 12.01746753\n",
      " 14.39827181 15.83091713 17.66781532 12.29500439  7.31182016  7.05061446\n",
      " 11.62054739 18.38736618 19.90682385 14.65583988  8.9613357   9.02244419\n",
      " 10.2047807  12.05837091 16.19112153 17.88105591  5.70095113 16.97509012\n",
      " 18.25867552  5.33793061  8.10601061 17.67003855 17.89697364 19.0567255\n",
      " 13.6776428  11.18641074 14.45989333 11.65078415 12.22259344 19.29179912\n",
      " 14.34392073  7.45900546 10.95747064 18.96376043 11.98171435  7.84489851\n",
      "  9.52277817  6.19276694  6.43862413 15.33616938 19.48290607 18.89199566\n",
      " 14.0884303   9.20273708  7.72701563 10.46259303 17.73785793 10.33516443\n",
      " 16.71364632 13.45579843  6.8249985  12.57722563 16.85278224  5.67857555\n",
      "  5.8006371  15.65787847  6.87832843 19.32432261 19.02913991  8.8248508\n",
      " 18.59059231 18.66692976 10.85658829 11.81759381 14.207445    7.43024417\n",
      "  5.75818652 19.16240809 13.78100335  5.68735126  7.05399984 16.26133944\n",
      "  8.6986453  11.78185827 11.70494307 18.34020841 19.56083889  9.80363986\n",
      " 15.53846114  9.41627111 16.10558093 13.29377313  8.66149564 19.05369968\n",
      " 15.57603374 11.56188568  9.37144463 15.20810449 17.98491202 12.84994982\n",
      " 12.57977858  9.12263924  5.27790261 12.78529474 11.2288796  15.18047867\n",
      " 14.65203087  7.34601673  6.99198931 17.77846341 11.29853821 11.46784834\n",
      " 17.4171371  14.25727318  9.59465487 14.45263613  8.60601373  5.6975913\n",
      " 10.71753697 18.87679617 17.7643269  13.79836704  8.33382374  5.97346487\n",
      " 12.19466698  5.43348642 12.92932653 11.13825282 15.46876795  5.45772922\n",
      " 14.05632133 17.5866593  13.59330798 19.89130479  9.87732775 11.90281296\n",
      " 13.22646058  8.17840176 16.12597913 19.66915332 11.19207844  7.36134125\n",
      " 19.13849802 15.03129025 16.90231677 19.24785788 10.76668999 14.41592673\n",
      " 14.31678214  7.66343076 13.36466019  5.68023964 10.72688365 16.394455\n",
      " 11.86440794 17.82064379  8.13893786  7.34656244  8.45690542 12.52949078\n",
      "  7.37032846 15.97814078 16.71411475  5.39600578  9.55753808 15.53603773\n",
      "  7.46270797 11.98120349 17.84660578 11.36926158 13.69966887  7.97379573\n",
      "  8.16343294 13.14017263 19.7002596  18.10867821 10.74578621 11.43231792\n",
      " 19.18837756  7.59918811  9.76341752 12.07219181 18.14797619 13.03654929\n",
      " 17.75916176  8.30187206 16.08556614 19.76686314  8.4820469   9.67126006\n",
      " 16.7724878   5.04993726 19.01933193 18.77122454 17.42914649  9.75588411\n",
      "  7.08558065 12.07617535 17.10149005 18.75887823  9.61341058  9.09057168\n",
      " 17.42406953 11.68260062 17.13723604  8.98468189 12.05062848 17.86831215\n",
      " 15.84621624 14.71853917 14.61103422 15.80427927 16.71525945 13.95984303\n",
      " 11.10147386 19.11056487 12.64125281  7.78229497  9.56437382  7.95511791\n",
      " 16.917687   17.27126481 13.7367891  19.90794192  7.98691884 17.43303256\n",
      "  9.57696429 16.42887996  5.51618773 18.55906729 15.79049801 13.32490613\n",
      " 16.47507921 14.73028757 17.7949295  12.46980157 14.55221927  7.62702173\n",
      "  6.72133784 18.95922141  7.73519048 14.35254337 19.71090538 19.21006058\n",
      " 14.86380809 12.66155265  9.71433392 13.93321383  7.25693783 13.41116153\n",
      "  6.21047142 17.18593259 18.99068978 14.20588715 11.82743044  8.23469046\n",
      " 14.0691114   6.97752756  6.00562086 14.3780634  13.41737442  5.57495458\n",
      "  6.86028692 12.6798177  16.91267421 13.73656399 15.06932288 19.22653993\n",
      " 14.50823852 18.50587789  7.0236855  14.98104462  6.63399316 13.57477804\n",
      " 13.8403268  15.40194887  5.74931183 18.68789197 19.89045428 10.36127146\n",
      "  8.97366048 13.19130907 15.43324721  7.40723377 15.644029    9.04542796\n",
      "  5.33121447 14.259976   19.48183065 15.56380631 17.79098276 13.01651386\n",
      " 16.42140382  5.65532214 13.17080174 14.7276528   9.43465219  6.08448135\n",
      " 11.2546099  12.75695772 18.49486646  6.6330138  18.22095689  8.07701532\n",
      " 14.36556269 13.93303209  6.18732296 13.86299809 17.44101909  6.61760463\n",
      "  5.07408446 17.14570454  7.97305591 12.40828439 15.79301347 16.04513863\n",
      " 19.16871685 12.12009948  9.98956912 17.80356692  7.59369802  6.20855059\n",
      "  5.88838211 18.94239009  5.22455694 14.55352897  5.9259137  13.78749149\n",
      "  9.17271208 11.57332319  8.3312214  18.70285687  8.21829606  8.14695142\n",
      "  8.71544445  6.41907915  5.8428931   8.12323971 11.99053668 15.59747052\n",
      " 15.74233311  7.16946427 16.17796899  7.5027344  19.54398987  9.97238765\n",
      " 12.38026436 19.61103096  5.59760975 10.64949022 12.17512346 15.33351615\n",
      "  8.69847454 14.54812445 15.06710969 17.67005063  8.49005397 19.48822094\n",
      " 19.43947758 17.53644008 10.94455469  6.81481936 16.98256584 15.20871941\n",
      " 18.45397026 14.51286872  5.69000999 11.77148024 15.95846349 10.23964392\n",
      " 17.79283461 16.22496257 12.7892157  16.12915565 19.22215015 13.56937191\n",
      "  8.38513468 14.95343363 17.19383711  8.33271378  9.43171459 19.44705269\n",
      "  5.4257706  17.84054859 11.90351657 14.32645873 14.52314726 17.29594641\n",
      " 17.12659353 18.48549525 10.03523726 16.69042419 16.70269422 15.0445367\n",
      " 11.45329989  9.96534834  9.49202444  7.72849198 19.85105172  7.39333848\n",
      "  6.10951418  7.66777445 17.60855913 19.28586101 10.84690625 13.85443803\n",
      " 10.9989223   5.72289282 18.46381624 19.39018132 16.10701982 19.12235392\n",
      " 15.14086055 11.6627347  10.88002786  9.97945973 17.75599916  9.29397669\n",
      " 10.9901827  15.24959797 18.3308383  13.55631698  9.27531133 16.38865103\n",
      " 10.31866092  5.51816046 18.9044958  13.55049891 17.00175001 15.00650365\n",
      " 17.44406517 13.36378344 18.97732394  7.64129829 15.22480771 19.6935152\n",
      " 18.45178862 15.73784423 17.72359025 15.94579499 11.40460484 19.92144041\n",
      " 12.9318193   9.57269635 17.95581158 13.03246825 14.07609613 16.24118043\n",
      " 10.32309614 15.51795495 16.37225463 19.22892096 19.98400286  6.08717567\n",
      " 10.58468573  9.04089138 12.16173893 16.4781941   8.66970546 17.1297272\n",
      "  7.71805397 18.11122748 15.16219257 18.43302811 17.03868749 15.36441749\n",
      "  9.72394813 15.06090625  8.73698934 11.81744837 15.34673043 15.34960666\n",
      "  6.91411519 16.68092575 12.01760752 12.63800163 18.50236657 15.3300818\n",
      "  5.6773944  14.14396721 17.37360958 16.06058936  8.41584479  5.45472995\n",
      " 15.36189838 15.1185806   8.54563835  6.32052087 11.30838645  6.66081096\n",
      " 14.83086052 16.27771    15.83952616 11.50356018  7.98572667 16.67969907\n",
      "  8.06368736  8.99261067 16.86203216  7.49250979  6.4248258  18.2404598\n",
      " 18.00639867 17.33337945 16.49273623  5.53282121  7.71579781 12.92230838\n",
      " 13.32174925  5.22714723 11.00503998 19.26538562 11.49176048  9.46523825\n",
      "  8.92509829 13.13627577 11.45379125  6.01522559 13.38751205 11.76995905\n",
      " 15.12269468 18.36050182  6.77422932 18.20044574  9.33693008  8.73068728\n",
      " 11.07539855 17.85423399 13.71900509 16.630632   11.8954138  17.8111344\n",
      "  7.71277155 17.99261749  6.54957516  6.66888468 18.72817779  5.94578573\n",
      " 17.35181838  8.56993957  5.88436489 18.51709894  8.15075113 13.43410042\n",
      " 16.22189444 14.05605508 17.65699053 11.73332008  5.41094755  7.11554943\n",
      " 11.57795829  7.53638747 12.48471926 13.48249031]\n"
     ]
    }
   ],
   "source": [
    "# write your code here\n",
    "data = (np.random.uniform(size=1000)*15) +5\n",
    "print(data)"
   ]
  },
  {
   "cell_type": "markdown",
   "metadata": {},
   "source": [
    "### Plotting the density of a sample\n",
    "As a simple sanity check, we want to plot the density of the data we have generated. We will use the function `plt.hist()` to plot the estimated pdf of our randomly generated data:"
   ]
  },
  {
   "cell_type": "code",
   "execution_count": null,
   "metadata": {},
   "outputs": [],
   "source": [
    "fig, ax = plt.subplots(1, 1, figsize=(6, 4))\n",
    "bins = np.linspace(0, 25, num=26)\n",
    "ax.hist(\n",
    "    data,\n",
    "    bins=bins,\n",
    "    density=True\n",
    ");"
   ]
  },
  {
   "cell_type": "markdown",
   "metadata": {},
   "source": [
    "To make sure our estimation ressembles the actual probability density function of a uniform random variable, we will create a function that computes the pdf of a uniform random variable between $a$ and $b$ at an arbitrary point $x$."
   ]
  },
  {
   "cell_type": "markdown",
   "metadata": {},
   "source": [
    "### Exercise\n",
    "What is the probability density function (pdf) of a uniform random variable between $a$ and $b$?\n",
    "\n"
   ]
  },
  {
   "cell_type": "markdown",
   "metadata": {},
   "source": [
    "### Exercise\n",
    "Write a function that gives the density of a uniform random variable between $a$ and $b$ at an arbitrary point $x$. Notice that you can define optional arguments by including them in the definition and giving them a default value."
   ]
  },
  {
   "cell_type": "code",
   "execution_count": 73,
   "metadata": {},
   "outputs": [],
   "source": [
    "(b,a)=(1,0)\n",
    "def uniform_pdf(x, a, b):\n",
    "    a=int(a)\n",
    "    b=int(b)\n",
    "    if x < a:\n",
    "        return 0\n",
    "    elif x > b:\n",
    "        return 0\n",
    "    else:\n",
    "        return 1/b-a"
   ]
  },
  {
   "cell_type": "markdown",
   "metadata": {},
   "source": [
    "Now we can add the expected pdf into the plot. The function `np.linspace(start, stop, num)` generates `num` equally spaced numbers between `start` and `stop`, both included."
   ]
  },
  {
   "cell_type": "code",
   "execution_count": 74,
   "metadata": {},
   "outputs": [],
   "source": [
    "x = np.linspace(start=a, stop=b, num=5000)\n",
    "pdf_x = np.array([\n",
    "    uniform_pdf(t, a, b)\n",
    "    for t in x \n",
    "])"
   ]
  },
  {
   "cell_type": "code",
   "execution_count": 75,
   "metadata": {},
   "outputs": [
    {
     "data": {
      "text/plain": [
       "[<matplotlib.lines.Line2D at 0x7f0e06f12370>]"
      ]
     },
     "execution_count": 75,
     "metadata": {},
     "output_type": "execute_result"
    },
    {
     "data": {
      "image/png": "[encoded data removed]",
      "text/plain": [
       "<Figure size 432x288 with 1 Axes>"
      ]
     },
     "metadata": {
      "needs_background": "light"
     },
     "output_type": "display_data"
    }
   ],
   "source": [
    "# generate a figure with a single subplot, of some size\n",
    "fig, ax = plt.subplots(1, 1, figsize=(6, 4))\n",
    "\n",
    "data=np.random.uniform(size=10**4)\n",
    "# plot empirical estimation\n",
    "bins = np.linspace(0, 1, num=26)\n",
    "ax.hist(\n",
    "    data,\n",
    "    bins=bins,\n",
    "    density=True\n",
    ");\n",
    "\n",
    "# plot theoretical prediction\n",
    "ax.plot(\n",
    "    x, pdf_x,\n",
    "    color=\"red\",\n",
    "    lw=2\n",
    ")\n",
    "\n"
   ]
  },
  {
   "cell_type": "markdown",
   "metadata": {},
   "source": [
    "## Adding labels and legend\n",
    "Axis labels and legends are the most important parts of a plot. Without them, we don't know what is what! So, let us add labels, a legend and a title to our plot"
   ]
  },
  {
   "cell_type": "code",
   "execution_count": 76,
   "metadata": {},
   "outputs": [
    {
     "data": {
      "image/png": "[encoded data removed]",
      "text/plain": [
       "<Figure size 432x288 with 1 Axes>"
      ]
     },
     "metadata": {
      "needs_background": "light"
     },
     "output_type": "display_data"
    }
   ],
   "source": [
    "# generate a figure with a single subplot, of some size\n",
    "fig, ax = plt.subplots(1, 1, figsize=(6, 4))\n",
    "\n",
    "\n",
    "# plot empirical estimation\n",
    "bins = np.linspace(0, 25, num=2 * 26)\n",
    "ax.hist(\n",
    "    data,\n",
    "    bins=bins,\n",
    "    density=True,\n",
    "    label=\"Empirical\"\n",
    ");\n",
    "\n",
    "# plot theoretical prediction\n",
    "ax.plot(\n",
    "    x, pdf_x,\n",
    "    color=\"red\",\n",
    "    lw=2,\n",
    "    label=\"Theoretical\"\n",
    ")\n",
    "\n",
    "# add labels for axes\n",
    "ax.set_xlabel(r\"$x$\")\n",
    "ax.set_ylabel(r\"Density, $f(x)$\")\n",
    "\n",
    "# add legend\n",
    "ax.legend(loc=(0.95, 0.7), frameon=False)\n",
    "\n",
    "# add title\n",
    "ax.set_title(f\"The uniform distribution $U(a, b)$\\n$a$=5, $b$=20\");"
   ]
  },
  {
   "cell_type": "markdown",
   "metadata": {},
   "source": [
    "### Exercise\n",
    "Verify that, if the sample size increases, our empirical estimation gets closer to the theoretical prediction. Do so for the following cases:\n",
    "+ $a=0, b=1$\n",
    "+ $a=-3, b=-1.2$\n",
    "+ $a=1800, b=1990$\n",
    "\n",
    "**Hint** Instead of copy-pasting the code to generate the figure many times, you could put the code inside a function `plot_comparison(N, a, b)`. The function will have 3 arguments: the sample size $N$ and the bounds $a, b$ of the uniform random variable. You can set a title that depends on the values of $a, b, N$ as follows\n",
    "\n",
    "```python\n",
    "ax.set_title(f\"The uniform distribution $U(a, b)$\\n$a$={a}, $b$={b}, $N$={N}\");\n",
    "```\n"
   ]
  },
  {
   "cell_type": "code",
   "execution_count": 78,
   "metadata": {},
   "outputs": [],
   "source": [
    "def plot_comparison(N, a, b):\n",
    "    # generate the random data\n",
    "    a=int(a)\n",
    "    b=int(b)\n",
    "    data = (np.random.uniform(size=N) *(b-a)) + a\n",
    "    \n",
    "    # compute the theoretical distribution\n",
    "    dx = (b - a) / 10\n",
    "    x = np.linspace(a - dx, b + dx, num=1000)\n",
    "    pdf_x = np.array([\n",
    "    uniform_pdf(t, a, b)\n",
    "    for t in x \n",
    "])\n",
    "    \n",
    "    # generate a figure with a single subplot, of some size\n",
    "    fig, ax = plt.subplots(1, 1, figsize=(6, 4))\n",
    "    \n",
    "    # plot empirical estimation\n",
    "    ax.hist(\n",
    "    x,pdf_x,\n",
    "    color='red',\n",
    "    lw=2, label='analitica')\n",
    "\n",
    "    # plot theoretical prediction\n",
    "    ax.plot(\n",
    "    data,\n",
    "    bins=x,\n",
    "    density=True,\n",
    "    label='comput.')\n",
    "\n",
    "    # add labels for axes\n",
    "    ...\n",
    "    ...\n",
    "    \n",
    "    # add legend\n",
    "    ...\n",
    "    \n",
    "    # add title\n",
    "    ..."
   ]
  },
  {
   "cell_type": "code",
   "execution_count": 79,
   "metadata": {},
   "outputs": [
    {
     "name": "stdout",
     "output_type": "stream",
     "text": [
      "()\n"
     ]
    },
    {
     "ename": "ValueError",
     "evalue": "`bins` must increase monotonically, when an array",
     "output_type": "error",
     "traceback": [
      "\u001b[0;31m---------------------------------------------------------------------------\u001b[0m",
      "\u001b[0;31mValueError\u001b[0m                                Traceback (most recent call last)",
      "\u001b[0;32m<ipython-input-79-c3b7163de2a1>\u001b[0m in \u001b[0;36m<module>\u001b[0;34m\u001b[0m\n\u001b[1;32m      4\u001b[0m     \u001b[0;32mfor\u001b[0m \u001b[0mN\u001b[0m \u001b[0;32min\u001b[0m \u001b[0;34m[\u001b[0m\u001b[0;36m100\u001b[0m\u001b[0;34m,\u001b[0m \u001b[0;36m300\u001b[0m\u001b[0;34m,\u001b[0m \u001b[0;36m1000\u001b[0m\u001b[0;34m,\u001b[0m \u001b[0;36m3000\u001b[0m\u001b[0;34m,\u001b[0m \u001b[0;36m10000\u001b[0m\u001b[0;34m]\u001b[0m\u001b[0;34m:\u001b[0m\u001b[0;34m\u001b[0m\u001b[0;34m\u001b[0m\u001b[0m\n\u001b[1;32m      5\u001b[0m         \u001b[0mprint\u001b[0m\u001b[0;34m(\u001b[0m\u001b[0mnp\u001b[0m\u001b[0;34m.\u001b[0m\u001b[0mshape\u001b[0m\u001b[0;34m(\u001b[0m\u001b[0ma\u001b[0m\u001b[0;34m)\u001b[0m\u001b[0;34m)\u001b[0m\u001b[0;34m\u001b[0m\u001b[0;34m\u001b[0m\u001b[0m\n\u001b[0;32m----> 6\u001b[0;31m         \u001b[0mplot_comparison\u001b[0m\u001b[0;34m(\u001b[0m\u001b[0mN\u001b[0m\u001b[0;34m,\u001b[0m\u001b[0ma\u001b[0m\u001b[0;34m,\u001b[0m\u001b[0mb\u001b[0m\u001b[0;34m)\u001b[0m\u001b[0;34m\u001b[0m\u001b[0;34m\u001b[0m\u001b[0m\n\u001b[0m",
      "\u001b[0;32m<ipython-input-78-d8cf1ac36f30>\u001b[0m in \u001b[0;36mplot_comparison\u001b[0;34m(N, a, b)\u001b[0m\n\u001b[1;32m     17\u001b[0m \u001b[0;34m\u001b[0m\u001b[0m\n\u001b[1;32m     18\u001b[0m     \u001b[0;31m# plot empirical estimation\u001b[0m\u001b[0;34m\u001b[0m\u001b[0;34m\u001b[0m\u001b[0;34m\u001b[0m\u001b[0m\n\u001b[0;32m---> 19\u001b[0;31m     ax.hist(\n\u001b[0m\u001b[1;32m     20\u001b[0m     \u001b[0mx\u001b[0m\u001b[0;34m,\u001b[0m\u001b[0mpdf_x\u001b[0m\u001b[0;34m,\u001b[0m\u001b[0;34m\u001b[0m\u001b[0;34m\u001b[0m\u001b[0m\n\u001b[1;32m     21\u001b[0m     \u001b[0mcolor\u001b[0m\u001b[0;34m=\u001b[0m\u001b[0;34m'red'\u001b[0m\u001b[0;34m,\u001b[0m\u001b[0;34m\u001b[0m\u001b[0;34m\u001b[0m\u001b[0m\n",
      "\u001b[0;32m~/anaconda3/lib/python3.8/site-packages/matplotlib/__init__.py\u001b[0m in \u001b[0;36minner\u001b[0;34m(ax, data, *args, **kwargs)\u001b[0m\n\u001b[1;32m   1445\u001b[0m     \u001b[0;32mdef\u001b[0m \u001b[0minner\u001b[0m\u001b[0;34m(\u001b[0m\u001b[0max\u001b[0m\u001b[0;34m,\u001b[0m \u001b[0;34m*\u001b[0m\u001b[0margs\u001b[0m\u001b[0;34m,\u001b[0m \u001b[0mdata\u001b[0m\u001b[0;34m=\u001b[0m\u001b[0;32mNone\u001b[0m\u001b[0;34m,\u001b[0m \u001b[0;34m**\u001b[0m\u001b[0mkwargs\u001b[0m\u001b[0;34m)\u001b[0m\u001b[0;34m:\u001b[0m\u001b[0;34m\u001b[0m\u001b[0;34m\u001b[0m\u001b[0m\n\u001b[1;32m   1446\u001b[0m         \u001b[0;32mif\u001b[0m \u001b[0mdata\u001b[0m \u001b[0;32mis\u001b[0m \u001b[0;32mNone\u001b[0m\u001b[0;34m:\u001b[0m\u001b[0;34m\u001b[0m\u001b[0;34m\u001b[0m\u001b[0m\n\u001b[0;32m-> 1447\u001b[0;31m             \u001b[0;32mreturn\u001b[0m \u001b[0mfunc\u001b[0m\u001b[0;34m(\u001b[0m\u001b[0max\u001b[0m\u001b[0;34m,\u001b[0m \u001b[0;34m*\u001b[0m\u001b[0mmap\u001b[0m\u001b[0;34m(\u001b[0m\u001b[0msanitize_sequence\u001b[0m\u001b[0;34m,\u001b[0m \u001b[0margs\u001b[0m\u001b[0;34m)\u001b[0m\u001b[0;34m,\u001b[0m \u001b[0;34m**\u001b[0m\u001b[0mkwargs\u001b[0m\u001b[0;34m)\u001b[0m\u001b[0;34m\u001b[0m\u001b[0;34m\u001b[0m\u001b[0m\n\u001b[0m\u001b[1;32m   1448\u001b[0m \u001b[0;34m\u001b[0m\u001b[0m\n\u001b[1;32m   1449\u001b[0m         \u001b[0mbound\u001b[0m \u001b[0;34m=\u001b[0m \u001b[0mnew_sig\u001b[0m\u001b[0;34m.\u001b[0m\u001b[0mbind\u001b[0m\u001b[0;34m(\u001b[0m\u001b[0max\u001b[0m\u001b[0;34m,\u001b[0m \u001b[0;34m*\u001b[0m\u001b[0margs\u001b[0m\u001b[0;34m,\u001b[0m \u001b[0;34m**\u001b[0m\u001b[0mkwargs\u001b[0m\u001b[0;34m)\u001b[0m\u001b[0;34m\u001b[0m\u001b[0;34m\u001b[0m\u001b[0m\n",
      "\u001b[0;32m~/anaconda3/lib/python3.8/site-packages/matplotlib/axes/_axes.py\u001b[0m in \u001b[0;36mhist\u001b[0;34m(self, x, bins, range, density, weights, cumulative, bottom, histtype, align, orientation, rwidth, log, color, label, stacked, **kwargs)\u001b[0m\n\u001b[1;32m   6649\u001b[0m             \u001b[0;31m# this will automatically overwrite bins,\u001b[0m\u001b[0;34m\u001b[0m\u001b[0;34m\u001b[0m\u001b[0;34m\u001b[0m\u001b[0m\n\u001b[1;32m   6650\u001b[0m             \u001b[0;31m# so that each histogram uses the same bins\u001b[0m\u001b[0;34m\u001b[0m\u001b[0;34m\u001b[0m\u001b[0;34m\u001b[0m\u001b[0m\n\u001b[0;32m-> 6651\u001b[0;31m             \u001b[0mm\u001b[0m\u001b[0;34m,\u001b[0m \u001b[0mbins\u001b[0m \u001b[0;34m=\u001b[0m \u001b[0mnp\u001b[0m\u001b[0;34m.\u001b[0m\u001b[0mhistogram\u001b[0m\u001b[0;34m(\u001b[0m\u001b[0mx\u001b[0m\u001b[0;34m[\u001b[0m\u001b[0mi\u001b[0m\u001b[0;34m]\u001b[0m\u001b[0;34m,\u001b[0m \u001b[0mbins\u001b[0m\u001b[0;34m,\u001b[0m \u001b[0mweights\u001b[0m\u001b[0;34m=\u001b[0m\u001b[0mw\u001b[0m\u001b[0;34m[\u001b[0m\u001b[0mi\u001b[0m\u001b[0;34m]\u001b[0m\u001b[0;34m,\u001b[0m \u001b[0;34m**\u001b[0m\u001b[0mhist_kwargs\u001b[0m\u001b[0;34m)\u001b[0m\u001b[0;34m\u001b[0m\u001b[0;34m\u001b[0m\u001b[0m\n\u001b[0m\u001b[1;32m   6652\u001b[0m             \u001b[0mtops\u001b[0m\u001b[0;34m.\u001b[0m\u001b[0mappend\u001b[0m\u001b[0;34m(\u001b[0m\u001b[0mm\u001b[0m\u001b[0;34m)\u001b[0m\u001b[0;34m\u001b[0m\u001b[0;34m\u001b[0m\u001b[0m\n\u001b[1;32m   6653\u001b[0m         \u001b[0mtops\u001b[0m \u001b[0;34m=\u001b[0m \u001b[0mnp\u001b[0m\u001b[0;34m.\u001b[0m\u001b[0marray\u001b[0m\u001b[0;34m(\u001b[0m\u001b[0mtops\u001b[0m\u001b[0;34m,\u001b[0m \u001b[0mfloat\u001b[0m\u001b[0;34m)\u001b[0m  \u001b[0;31m# causes problems later if it's an int\u001b[0m\u001b[0;34m\u001b[0m\u001b[0;34m\u001b[0m\u001b[0m\n",
      "\u001b[0;32m<__array_function__ internals>\u001b[0m in \u001b[0;36mhistogram\u001b[0;34m(*args, **kwargs)\u001b[0m\n",
      "\u001b[0;32m~/.local/lib/python3.8/site-packages/numpy/lib/histograms.py\u001b[0m in \u001b[0;36mhistogram\u001b[0;34m(a, bins, range, normed, weights, density)\u001b[0m\n\u001b[1;32m    791\u001b[0m     \u001b[0ma\u001b[0m\u001b[0;34m,\u001b[0m \u001b[0mweights\u001b[0m \u001b[0;34m=\u001b[0m \u001b[0m_ravel_and_check_weights\u001b[0m\u001b[0;34m(\u001b[0m\u001b[0ma\u001b[0m\u001b[0;34m,\u001b[0m \u001b[0mweights\u001b[0m\u001b[0;34m)\u001b[0m\u001b[0;34m\u001b[0m\u001b[0;34m\u001b[0m\u001b[0m\n\u001b[1;32m    792\u001b[0m \u001b[0;34m\u001b[0m\u001b[0m\n\u001b[0;32m--> 793\u001b[0;31m     \u001b[0mbin_edges\u001b[0m\u001b[0;34m,\u001b[0m \u001b[0muniform_bins\u001b[0m \u001b[0;34m=\u001b[0m \u001b[0m_get_bin_edges\u001b[0m\u001b[0;34m(\u001b[0m\u001b[0ma\u001b[0m\u001b[0;34m,\u001b[0m \u001b[0mbins\u001b[0m\u001b[0;34m,\u001b[0m \u001b[0mrange\u001b[0m\u001b[0;34m,\u001b[0m \u001b[0mweights\u001b[0m\u001b[0;34m)\u001b[0m\u001b[0;34m\u001b[0m\u001b[0;34m\u001b[0m\u001b[0m\n\u001b[0m\u001b[1;32m    794\u001b[0m \u001b[0;34m\u001b[0m\u001b[0m\n\u001b[1;32m    795\u001b[0m     \u001b[0;31m# Histogram is an integer or a float array depending on the weights.\u001b[0m\u001b[0;34m\u001b[0m\u001b[0;34m\u001b[0m\u001b[0;34m\u001b[0m\u001b[0m\n",
      "\u001b[0;32m~/.local/lib/python3.8/site-packages/numpy/lib/histograms.py\u001b[0m in \u001b[0;36m_get_bin_edges\u001b[0;34m(a, bins, range, weights)\u001b[0m\n\u001b[1;32m    429\u001b[0m         \u001b[0mbin_edges\u001b[0m \u001b[0;34m=\u001b[0m \u001b[0mnp\u001b[0m\u001b[0;34m.\u001b[0m\u001b[0masarray\u001b[0m\u001b[0;34m(\u001b[0m\u001b[0mbins\u001b[0m\u001b[0;34m)\u001b[0m\u001b[0;34m\u001b[0m\u001b[0;34m\u001b[0m\u001b[0m\n\u001b[1;32m    430\u001b[0m         \u001b[0;32mif\u001b[0m \u001b[0mnp\u001b[0m\u001b[0;34m.\u001b[0m\u001b[0many\u001b[0m\u001b[0;34m(\u001b[0m\u001b[0mbin_edges\u001b[0m\u001b[0;34m[\u001b[0m\u001b[0;34m:\u001b[0m\u001b[0;34m-\u001b[0m\u001b[0;36m1\u001b[0m\u001b[0;34m]\u001b[0m \u001b[0;34m>\u001b[0m \u001b[0mbin_edges\u001b[0m\u001b[0;34m[\u001b[0m\u001b[0;36m1\u001b[0m\u001b[0;34m:\u001b[0m\u001b[0;34m]\u001b[0m\u001b[0;34m)\u001b[0m\u001b[0;34m:\u001b[0m\u001b[0;34m\u001b[0m\u001b[0;34m\u001b[0m\u001b[0m\n\u001b[0;32m--> 431\u001b[0;31m             raise ValueError(\n\u001b[0m\u001b[1;32m    432\u001b[0m                 '`bins` must increase monotonically, when an array')\n\u001b[1;32m    433\u001b[0m \u001b[0;34m\u001b[0m\u001b[0m\n",
      "\u001b[0;31mValueError\u001b[0m: `bins` must increase monotonically, when an array"
     ]
    },
    {
     "data": {
      "image/png": "[encoded data removed]",
      "text/plain": [
       "<Figure size 432x288 with 1 Axes>"
      ]
     },
     "metadata": {
      "needs_background": "light"
     },
     "output_type": "display_data"
    }
   ],
   "source": [
    "# plot all comparison in a loop\n",
    "\n",
    "for (a, b) in [(0, 1), (-3, -1.2), (1800, 1990)]:\n",
    "    for N in [100, 300, 1000, 3000, 10000]:\n",
    "        print(np.shape(a))\n",
    "        plot_comparison(N,a,b)"
   ]
  },
  {
   "cell_type": "markdown",
   "metadata": {},
   "source": [
    "## Generating random numbers with non-uniform distributions\n",
    "In many cases, we want to draw random numbers from non-uniform distributions. For instance, we might want to generate Gaussian, exponential or Poisson distributed random numbers. How can we do this in plain python?\n",
    "\n",
    "### Inverse transform sampling\n",
    "The most general way of generating random numbers under a given distribution is known as **inverse transform sampling**. You can read about the method [here](link), but the key theoretical foundation of the method is very simple:\n",
    "\n",
    "Given a continous random variable $X$ with cumulative distribution function $F$, the random variable $F(X)$ has a uniform distribution between 0 and 1. \n",
    "\n",
    "$$\n",
    "F(X) \\sim U(0, 1)\n",
    "$$\n",
    "\n",
    "Think about it for a second. Here $F(X)$ is not a function, but a random variable, because we apply a function, $F$, to a random variable, $X$, getting a new random variable, $Y \\equiv F(X)$. The statement is then simply that $Y$ is a uniform random variable, no matter what form $F$ takes.\n",
    "\n",
    "As a consequence, one can see that $X = F^{-1}(U)$, where $U$ is a uniform random variable between 0 and 1. This gives as a very simple way of drawing random numbers from an arbitrary continous random variable $X$:\n",
    "\n",
    "1. Generate a uniform random number, $u$\n",
    "2. Compute $x = F^{-1}(u)$\n",
    "\n",
    "where $F$ is the cumulative distribution function of $X$."
   ]
  },
  {
   "cell_type": "markdown",
   "metadata": {},
   "source": [
    "### Exercise\n",
    "Consider the **exponential** distribution, with probability density function \n",
    "$$\n",
    "f(x) = \\lambda e^{-\\lambda x}\n",
    "$$\n",
    "and cumulative distribution function\n",
    "$$\n",
    "F(x) = 1 - e^{-\\lambda x}\n",
    "$$\n",
    "1. Write a function that generates exponentially-distributed random numbers, using the inverse transform sampling method. For simplicity, set $\\lambda = 1$.\n",
    "2. Generate 1000 exponentially-distributed random numbers with your function.\n",
    "3. Plot a histogram of your generated sample, together with the theoretical probability density function."
   ]
  },
  {
   "cell_type": "code",
   "execution_count": 86,
   "metadata": {},
   "outputs": [],
   "source": [
    "def inv_cdf_expo(y):\n",
    "    \n",
    "    x=-np.log(1-y)\n",
    "    \n",
    "    return x\n",
    "\n",
    "\n",
    "def inverse_sampling(size, inv_cdf_expo):\n",
    "    # generate uniform data of given_size\n",
    "    u = np.random.uniform(size=size)\n",
    "    # inverse transform it\n",
    "    x = np.array([inv_cdf_expo(y) for y in u])\n",
    "    return x"
   ]
  },
  {
   "cell_type": "code",
   "execution_count": 89,
   "metadata": {},
   "outputs": [
    {
     "data": {
      "image/png": "[encoded data removed]",
      "text/plain": [
       "<Figure size 432x360 with 1 Axes>"
      ]
     },
     "metadata": {
      "needs_background": "light"
     },
     "output_type": "display_data"
    }
   ],
   "source": [
    "x = np.linspace(0, 8, num=200)\n",
    "pdf_x = np.array([np.exp(-t) for t in x])\n",
    "data = inverse_sampling(1000,inv_cdf_expo)\n",
    "\n",
    "fig, ax = plt.subplots(1, 1, figsize=(6, 5))\n",
    "ax.hist(\n",
    "data,\n",
    "bins=x,\n",
    "density=True,\n",
    "label=\"comput\")\n",
    "ax.plot(\n",
    "x,pdf_x,\n",
    "lw=2,\n",
    "color=\"red\",\n",
    "label=\"inv cdf sampling\")\n",
    "ax.set_yscale(\"log\")\n"
   ]
  },
  {
   "cell_type": "markdown",
   "metadata": {},
   "source": [
    "## In practical situations, do not reinvent the wheel!\n",
    "What we did so far is a good exercise to get comfortable with python, random number generation, histograms and probabilities.\n",
    "\n",
    "If you need to generate exponential random numbers as part of a larger project, however, it is better to use a function from a **well-tested**, **well-documented** library such as [numpy]() or [scipy](). For instance:\n",
    "\n",
    "```python\n",
    "import numpy as np\n",
    "x = np.random.normal(location=0, scale=1, size=1000)\n",
    "```\n",
    "\n",
    "That is the beauty of **open-source** languages like python: there is a community of developers that contribute their code to standardized libraries in an organized fashion. These libraries are less likely than yours to contain errors or bugs, because they are used by many people and such bugs are reported and fixed very quickly. For instance numpy's `np.random` submodel contains functions to generate random numbers from many distributions, see [the documentation for numpy.random](https://docs.scipy.org/doc/numpy/reference/routines.random.html#distributions)\n",
    "\n",
    "However, as you can see **not all** distributions are included in numpy. If you need to work with a less well-known distribution, you might need to implement that yourself. In such case, knowing the **inverse sampling** method will come in handy!\n",
    "\n"
   ]
  }
 ],
 "metadata": {
  "kernelspec": {
   "display_name": "Python 3",
   "language": "python",
   "name": "python3"
  },
  "language_info": {
   "codemirror_mode": {
    "name": "ipython",
    "version": 3
   },
   "file_extension": ".py",
   "mimetype": "text/x-python",
   "name": "python",
   "nbconvert_exporter": "python",
   "pygments_lexer": "ipython3",
   "version": "3.8.8"
  }
 },
 "nbformat": 4,
 "nbformat_minor": 4
}
